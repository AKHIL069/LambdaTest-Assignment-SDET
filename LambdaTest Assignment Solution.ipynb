{
 "cells": [
  {
   "cell_type": "code",
   "execution_count": 1,
   "id": "85e5b5b4",
   "metadata": {},
   "outputs": [
    {
     "data": {
      "text/html": [
       "<div>\n",
       "<style scoped>\n",
       "    .dataframe tbody tr th:only-of-type {\n",
       "        vertical-align: middle;\n",
       "    }\n",
       "\n",
       "    .dataframe tbody tr th {\n",
       "        vertical-align: top;\n",
       "    }\n",
       "\n",
       "    .dataframe thead th {\n",
       "        text-align: right;\n",
       "    }\n",
       "</style>\n",
       "<table border=\"1\" class=\"dataframe\">\n",
       "  <thead>\n",
       "    <tr style=\"text-align: right;\">\n",
       "      <th></th>\n",
       "      <th>product</th>\n",
       "      <th>price</th>\n",
       "    </tr>\n",
       "  </thead>\n",
       "  <tbody>\n",
       "    <tr>\n",
       "      <th>0</th>\n",
       "      <td>samsung,'OEM Samsung Washing Machine Pulsator ...</td>\n",
       "      <td>20916</td>\n",
       "    </tr>\n",
       "    <tr>\n",
       "      <th>1</th>\n",
       "      <td>samsung,'OEM Samsung Chrome Washing Machine Wa...</td>\n",
       "      <td>91995</td>\n",
       "    </tr>\n",
       "    <tr>\n",
       "      <th>2</th>\n",
       "      <td>samsung, 'SAMSUNG Washing Machine Spring Hange...</td>\n",
       "      <td>22970</td>\n",
       "    </tr>\n",
       "    <tr>\n",
       "      <th>3</th>\n",
       "      <td>samsung,'Samsung DC97-17022B Assy Detergen</td>\n",
       "      <td>32959</td>\n",
       "    </tr>\n",
       "    <tr>\n",
       "      <th>4</th>\n",
       "      <td>samsung,'Samsung DC66-00470A DAMPER SHOC</td>\n",
       "      <td>29981</td>\n",
       "    </tr>\n",
       "  </tbody>\n",
       "</table>\n",
       "</div>"
      ],
      "text/plain": [
       "                                             product  price\n",
       "0  samsung,'OEM Samsung Washing Machine Pulsator ...  20916\n",
       "1  samsung,'OEM Samsung Chrome Washing Machine Wa...  91995\n",
       "2  samsung, 'SAMSUNG Washing Machine Spring Hange...  22970\n",
       "3         samsung,'Samsung DC97-17022B Assy Detergen  32959\n",
       "4           samsung,'Samsung DC66-00470A DAMPER SHOC  29981"
      ]
     },
     "execution_count": 1,
     "metadata": {},
     "output_type": "execute_result"
    }
   ],
   "source": [
    "import csv\n",
    "import pandas as pd\n",
    "x = \"samsung,'OEM Samsung Washing Machine Pulsator Washplate Cap Shipped With WA48J7700AW, WA48J7700AW/A2, WA48J7700AW/AA',20916,samsung,'OEM Samsung Chrome Washing Machine Washplate Pulsator Cap Shipped With WA52M7750AV, WA52M7750AV/A4, WA52M7750AW, WA52M7750AW/A4',91995,samsung, 'SAMSUNG Washing Machine Spring Hanger, DC61-01257M',22970,samsung,'Samsung DC97-17022B Assy Detergent',32959,samsung,'Samsung DC66-00470A DAMPER SHOCK',29981,samsung,'DC64-00519D Samsung Washing Machine Door Lock Washer Dryer Dishwashe -MP#GH4498 349Y49HBRG9109150',52000,samsung,'Samsung DC97-16991A Assembly Filter',130001\"\n",
    "\n",
    "lis = x.split(\"',\")\n",
    "\n",
    "for i in range(len(lis)-1):\n",
    "    lis[i] = lis[i] + \"',\" + lis[i+1][0:5]\n",
    "    lis[i+1] = lis[i+1][6:-1]\n",
    "\n",
    "lis.remove('')\n",
    "\n",
    "for i in range(0, len(lis)):\n",
    "    lis[i] = lis[i].split(\"',\")\n",
    "\n",
    "file = open(\"demo.csv\", 'w+', newline = '')\n",
    "\n",
    "with file:\n",
    "    header = ['product', 'price']\n",
    "    writer = csv.DictWriter(file, fieldnames = header)\n",
    "    writer.writeheader()\n",
    "    write = csv.writer(file)\n",
    "    write.writerows(lis)\n",
    "\n",
    "df = pd.read_csv(\"demo.csv\")\n",
    "df.head()\n"
   ]
  },
  {
   "cell_type": "code",
   "execution_count": 2,
   "id": "a1820105",
   "metadata": {},
   "outputs": [],
   "source": [
    "sort_df = df.sort_values(by = [\"price\"], ascending = True)"
   ]
  },
  {
   "cell_type": "code",
   "execution_count": 3,
   "id": "1ccade9c",
   "metadata": {},
   "outputs": [
    {
     "data": {
      "text/html": [
       "<div>\n",
       "<style scoped>\n",
       "    .dataframe tbody tr th:only-of-type {\n",
       "        vertical-align: middle;\n",
       "    }\n",
       "\n",
       "    .dataframe tbody tr th {\n",
       "        vertical-align: top;\n",
       "    }\n",
       "\n",
       "    .dataframe thead th {\n",
       "        text-align: right;\n",
       "    }\n",
       "</style>\n",
       "<table border=\"1\" class=\"dataframe\">\n",
       "  <thead>\n",
       "    <tr style=\"text-align: right;\">\n",
       "      <th></th>\n",
       "      <th>product</th>\n",
       "      <th>price</th>\n",
       "    </tr>\n",
       "  </thead>\n",
       "  <tbody>\n",
       "    <tr>\n",
       "      <th>6</th>\n",
       "      <td>samsung,'Samsung DC97-16991A Assembly Filte</td>\n",
       "      <td>13000</td>\n",
       "    </tr>\n",
       "    <tr>\n",
       "      <th>0</th>\n",
       "      <td>samsung,'OEM Samsung Washing Machine Pulsator ...</td>\n",
       "      <td>20916</td>\n",
       "    </tr>\n",
       "    <tr>\n",
       "      <th>2</th>\n",
       "      <td>samsung, 'SAMSUNG Washing Machine Spring Hange...</td>\n",
       "      <td>22970</td>\n",
       "    </tr>\n",
       "    <tr>\n",
       "      <th>4</th>\n",
       "      <td>samsung,'Samsung DC66-00470A DAMPER SHOC</td>\n",
       "      <td>29981</td>\n",
       "    </tr>\n",
       "    <tr>\n",
       "      <th>3</th>\n",
       "      <td>samsung,'Samsung DC97-17022B Assy Detergen</td>\n",
       "      <td>32959</td>\n",
       "    </tr>\n",
       "  </tbody>\n",
       "</table>\n",
       "</div>"
      ],
      "text/plain": [
       "                                             product  price\n",
       "6        samsung,'Samsung DC97-16991A Assembly Filte  13000\n",
       "0  samsung,'OEM Samsung Washing Machine Pulsator ...  20916\n",
       "2  samsung, 'SAMSUNG Washing Machine Spring Hange...  22970\n",
       "4           samsung,'Samsung DC66-00470A DAMPER SHOC  29981\n",
       "3         samsung,'Samsung DC97-17022B Assy Detergen  32959"
      ]
     },
     "execution_count": 3,
     "metadata": {},
     "output_type": "execute_result"
    }
   ],
   "source": [
    "sort_df.head()"
   ]
  },
  {
   "cell_type": "code",
   "execution_count": 4,
   "id": "986ef205",
   "metadata": {},
   "outputs": [],
   "source": [
    "df2 = sort_df.set_index(\"product\")"
   ]
  },
  {
   "cell_type": "code",
   "execution_count": 5,
   "id": "03873e53",
   "metadata": {},
   "outputs": [],
   "source": [
    "df2.to_csv(\"demo2.csv\")"
   ]
  },
  {
   "cell_type": "code",
   "execution_count": 6,
   "id": "a467db3d",
   "metadata": {},
   "outputs": [],
   "source": [
    "import pandas as pd\n",
    "import os\n",
    "\n",
    "data = pd.read_csv('demo2.csv', encoding='utf-8')\n",
    "with open('output_file.txt','a+', encoding='utf-8') as f:\n",
    "    for line in data.values:\n",
    "        f.write((str(line[0])+\"',\"+str(line[1])+'\\n'))"
   ]
  }
 ],
 "metadata": {
  "kernelspec": {
   "display_name": "Python 3",
   "language": "python",
   "name": "python3"
  },
  "language_info": {
   "codemirror_mode": {
    "name": "ipython",
    "version": 3
   },
   "file_extension": ".py",
   "mimetype": "text/x-python",
   "name": "python",
   "nbconvert_exporter": "python",
   "pygments_lexer": "ipython3",
   "version": "3.8.8"
  }
 },
 "nbformat": 4,
 "nbformat_minor": 5
}
